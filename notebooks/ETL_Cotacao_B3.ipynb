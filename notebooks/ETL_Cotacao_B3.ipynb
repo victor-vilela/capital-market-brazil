{
 "cells": [
  {
   "cell_type": "code",
   "execution_count": 1,
   "metadata": {},
   "outputs": [],
   "source": [
    "import os\n",
    "\n",
    "os.chdir('..')"
   ]
  },
  {
   "cell_type": "code",
   "execution_count": 2,
   "metadata": {},
   "outputs": [],
   "source": [
    "%load_ext autoreload\n",
    "%autoreload 2\n",
    "import capital_market_brazil.aquisicao.b3.base_cotacao_b3 as etl_base_cotacao_b3"
   ]
  },
  {
   "cell_type": "code",
   "execution_count": 3,
   "metadata": {},
   "outputs": [],
   "source": [
    "cotacao_b3_etl = etl_base_cotacao_b3.BaseCotacaoB3ETL(\n",
    "    entrada='dados/cotacao_b3', \n",
    "    saida='saida/aquisicao', \n",
    "    url='https://arquivos.b3.com.br/rapinegocios/tickercsv/'\n",
    ")"
   ]
  },
  {
   "cell_type": "code",
   "execution_count": 9,
   "metadata": {},
   "outputs": [
    {
     "name": "stdout",
     "output_type": "stream",
     "text": [
      "\n",
      "Arquivo não encontrado para a data: 2024-09-01\n",
      "\n",
      "Arquivo não encontrado para a data: 2024-09-02\n",
      "\n",
      "Arquivo não encontrado para a data: 2024-09-07\n",
      "\n",
      "Arquivo não encontrado para a data: 2024-09-08\n",
      "\n",
      "Arquivo não encontrado para a data: 2024-09-14\n",
      "\n",
      "Arquivo não encontrado para a data: 2024-09-15\n",
      "\n",
      "Arquivo não encontrado para a data: 2024-09-21\n",
      "\n",
      "Arquivo não encontrado para a data: 2024-09-22\n",
      "\n",
      "Arquivo não encontrado para a data: 2024-09-28\n",
      "\n",
      "Arquivo não encontrado para a data: 2024-09-29\n",
      "\n",
      "Arquivo não encontrado para a data: 2024-10-01\n"
     ]
    }
   ],
   "source": [
    "cotacao_b3_etl.download_content()"
   ]
  },
  {
   "cell_type": "code",
   "execution_count": null,
   "metadata": {},
   "outputs": [],
   "source": []
  }
 ],
 "metadata": {
  "kernelspec": {
   "display_name": "capital-market-brazil-Ln0XD0eA-py3.12",
   "language": "python",
   "name": "python3"
  },
  "language_info": {
   "codemirror_mode": {
    "name": "ipython",
    "version": 3
   },
   "file_extension": ".py",
   "mimetype": "text/x-python",
   "name": "python",
   "nbconvert_exporter": "python",
   "pygments_lexer": "ipython3",
   "version": "3.12.6"
  }
 },
 "nbformat": 4,
 "nbformat_minor": 2
}
