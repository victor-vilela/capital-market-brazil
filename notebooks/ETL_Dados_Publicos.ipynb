{
 "cells": [
  {
   "cell_type": "code",
   "execution_count": 2,
   "metadata": {},
   "outputs": [],
   "source": [
    "import pandas as pd\n",
    "import numpy as np\n",
    "import os\n",
    "import io\n",
    "from pathlib import Path\n",
    "from bs4 import BeautifulSoup\n",
    "import urllib\n",
    "\n",
    "import sqlite3\n",
    "import requests\n",
    "import zipfile"
   ]
  },
  {
   "cell_type": "code",
   "execution_count": 2,
   "metadata": {},
   "outputs": [],
   "source": [
    "# def obtem_dados(\n",
    "#         url: str = 'https://ftp.ibge.gov.br/Precos_Indices_de_Precos_ao_Consumidor/IPCA/Serie_Historica/ipca_SerieHist.zip'\n",
    "# ):\n",
    "    \n",
    "#     response = requests.get(url)\n",
    "\n",
    "#     columns_name = ['yeardt','monthdt','num_indice','var_mes','var_3mes','var_6mes','var_ano','var_12mes'] # previous mapped columns name \n",
    "\n",
    "#     if response.status_code == 200:\n",
    "#         # Create a ZipFile object from the response content\n",
    "#         with zipfile.ZipFile(io.BytesIO(response.content)) as zip_ref:\n",
    "#             for file_name in zip_ref.namelist():\n",
    "#                 if file_name.endswith('.xlsx') or file_name.endswith('.xls'):\n",
    "#                     # Read the Excel file into a DataFrame\n",
    "#                     with zip_ref.open(file_name) as excel_file:\n",
    "#                         df_ipca = pd.read_excel(excel_file,skiprows = 7, names = columns_name,usecols=range(8))\n",
    "#                     break\n",
    "#         print(\"DataFrame loaded successfully.\")\n",
    "#         # Display the DataFrame\n",
    "#         print(df_ipca.head(2))   \n",
    "#         # \n",
    "#         # caminho_saida = Path('../dados/ibge')\n",
    "#         # caminho_saida.mkdir(parents=True, exist_ok=True)\n",
    "\n",
    "#         # with open(caminho_saida / df_ipca, 'wb') as arq:\n",
    "#         #     arq.write(r.content)\n",
    "\n",
    "#     else:\n",
    "#         print('Connection erro: {}'.format(response.status_code))"
   ]
  },
  {
   "cell_type": "code",
   "execution_count": 3,
   "metadata": {},
   "outputs": [],
   "source": [
    "# url_ipca = 'https://ftp.ibge.gov.br/Precos_Indices_de_Precos_ao_Consumidor/IPCA/Serie_Historica/ipca_SerieHist.zip'\n",
    "\n",
    "# response = requests.get(url_ipca)\n",
    "\n",
    "# columns_name = ['DT_ANO', 'DT_MES', 'NM_INDICE', 'VR_MES', 'VR_3_MES', 'VR_6_MES', 'VR_ANO', 'VR_12_MES'] # previous mapped columns name \n",
    "\n",
    "# if response.status_code == 200:\n",
    "#     # Create a ZipFile object from the response content\n",
    "#     with zipfile.ZipFile(io.BytesIO(response.content)) as zip_ref:\n",
    "#         for file_name in zip_ref.namelist():    \n",
    "#             if file_name.endswith('.xlsx') or file_name.endswith('.xls'):\n",
    "#                 # Read the Excel file into a DataFrame\n",
    "#                 with zip_ref.open(file_name) as excel_file:\n",
    "#                     df_ipca = pd.read_excel(excel_file,skiprows = 7, names = columns_name, usecols=range(8))\n",
    "#                 break\n",
    "#     print(\"DataFrame loaded successfully.\")\n",
    "#     # Display the DataFrame\n",
    "#     print(df_ipca.head(2))    \n",
    "# else:\n",
    "#     print('Connection erro: {}'.format(response.status_code))"
   ]
  },
  {
   "cell_type": "code",
   "execution_count": 4,
   "metadata": {},
   "outputs": [],
   "source": [
    "# url = 'https://www.b3.com.br/pt_br/market-data-e-indices/servicos-de-dados/market-data/cotacoes/cotacoes/'\n",
    "\n",
    "# html = urllib.request.urlopen(url).read()\n",
    "# soup = BeautifulSoup(html, features='html.parser')\n",
    "\n",
    "# # [tag['href'] for tag in soup.find_all('a', {'class': 'menu-item-acessivel'})]\n",
    "# main = soup.find('main')\n",
    "# main.find_all('div', {'class': 'bg-conteudo'})"
   ]
  },
  {
   "cell_type": "code",
   "execution_count": 1,
   "metadata": {},
   "outputs": [],
   "source": [
    "from datetime import datetime, timedelta\n",
    "from selenium import webdriver\n",
    "from selenium.webdriver.common.by import By\n",
    "from selenium.webdriver.chrome.service import Service\n",
    "from selenium.webdriver.support import expected_conditions as EC\n",
    "from selenium.webdriver.support.ui import WebDriverWait \n",
    "from webdriver_manager.chrome import ChromeDriverManager\n",
    "\n",
    "chrome_driver_version = '126.0.6478.126'\n",
    "\n",
    "options = webdriver.ChromeOptions()\n",
    "options.binary_location = \"/usr/bin/chromium\"\n",
    "options.add_argument('--no-sandbox')\n",
    "options.add_argument('--disable-dev-shm-usage')\n",
    "options.add_argument('--headless')  # Se você não precisar ver a interface do Chrome\n",
    "options.add_argument('--remote-debugging-port=9222')\n",
    "\n",
    "driver = webdriver.Chrome(service=Service(ChromeDriverManager(driver_version=chrome_driver_version).install()), options=options)\n"
   ]
  },
  {
   "cell_type": "code",
   "execution_count": null,
   "metadata": {},
   "outputs": [],
   "source": [
    "dias_mes = [\n",
    "            datetime.strftime(\n",
    "                datetime.now() - timedelta(days=dt), format=\"%d/%m/%Y\"\n",
    "            )\n",
    "            for dt in range(0, 30)\n",
    "        ]\n",
    "dias_mes"
   ]
  },
  {
   "cell_type": "code",
   "execution_count": 3,
   "metadata": {},
   "outputs": [
    {
     "name": "stdout",
     "output_type": "stream",
     "text": [
      "Cotações | B3\n"
     ]
    }
   ],
   "source": [
    "driver.get(\"https://www.b3.com.br/pt_br/market-data-e-indices/servicos-de-dados/market-data/cotacoes/cotacoes/\")\n",
    "print(driver.title)"
   ]
  },
  {
   "cell_type": "code",
   "execution_count": 4,
   "metadata": {},
   "outputs": [],
   "source": [
    "driver.implicitly_wait(3)"
   ]
  },
  {
   "cell_type": "code",
   "execution_count": 5,
   "metadata": {},
   "outputs": [
    {
     "data": {
      "text/plain": [
       "True"
      ]
     },
     "execution_count": 5,
     "metadata": {},
     "output_type": "execute_result"
    }
   ],
   "source": [
    "WebDriverWait(driver, 5).until(\n",
    "    EC.frame_to_be_available_and_switch_to_it((By.ID, 'bvmf_iframe')),\n",
    "    EC.frame_to_be_available_and_switch_to_it((By.ID, 'iFrameResizer0'))\n",
    ")"
   ]
  },
  {
   "cell_type": "code",
   "execution_count": 24,
   "metadata": {},
   "outputs": [
    {
     "data": {
      "text/plain": [
       "['https://arquivos.b3.com.br/apinegocios/tickercsv/2024-08-16',\n",
       " 'https://arquivos.b3.com.br/apinegocios/tickercsv/2024-08-15',\n",
       " 'https://arquivos.b3.com.br/apinegocios/tickercsv/2024-08-14',\n",
       " 'https://arquivos.b3.com.br/apinegocios/tickercsv/2024-08-13',\n",
       " 'https://arquivos.b3.com.br/apinegocios/tickercsv/2024-08-12',\n",
       " 'https://arquivos.b3.com.br/apinegocios/tickercsv/2024-08-09',\n",
       " 'https://arquivos.b3.com.br/apinegocios/tickercsv/2024-08-08',\n",
       " 'https://arquivos.b3.com.br/apinegocios/tickercsv/2024-08-07',\n",
       " 'https://arquivos.b3.com.br/apinegocios/tickercsv/2024-08-06',\n",
       " 'https://arquivos.b3.com.br/apinegocios/tickercsv/2024-08-05',\n",
       " 'https://arquivos.b3.com.br/apinegocios/tickercsv/2024-08-02',\n",
       " 'https://arquivos.b3.com.br/apinegocios/tickercsv/2024-08-01',\n",
       " 'https://arquivos.b3.com.br/apinegocios/tickercsv/2024-07-31',\n",
       " 'https://arquivos.b3.com.br/apinegocios/tickercsv/2024-07-30',\n",
       " 'https://arquivos.b3.com.br/apinegocios/tickercsv/2024-07-29',\n",
       " 'https://arquivos.b3.com.br/apinegocios/tickercsv/2024-07-26',\n",
       " 'https://arquivos.b3.com.br/apinegocios/tickercsv/2024-07-25',\n",
       " 'https://arquivos.b3.com.br/apinegocios/tickercsv/2024-07-24',\n",
       " 'https://arquivos.b3.com.br/apinegocios/tickercsv/2024-07-23',\n",
       " 'https://arquivos.b3.com.br/apinegocios/tickercsv/2024-07-22']"
      ]
     },
     "execution_count": 24,
     "metadata": {},
     "output_type": "execute_result"
    }
   ],
   "source": [
    "html_element = driver.find_element(By.XPATH, '/html/body/div/div/div/div[2]').get_attribute('outerHTML')\n",
    "soup = BeautifulSoup(html_element, 'html.parser')\n",
    "links = soup.find_all('a')\n",
    "[link.attrs['href'] for link in links]\n",
    "# soup.find('a').attrs['href']\n",
    "# html = urllib.request.urlopen(url).read()\n",
    "# soup = BeautifulSoup(html, features='html.parser')\n",
    "\n",
    "# [tag['href'] for tag in soup.find_all('a', {'class': 'menu-item-acessivel'})]\n",
    "# main = soup.find('main')\n",
    "# main.find_all('div', {'class': 'bg-conteudo'})"
   ]
  },
  {
   "cell_type": "code",
   "execution_count": null,
   "metadata": {},
   "outputs": [],
   "source": [
    "def get_data_cotacao_b3(\n",
    "    url: str = 'https://www.b3.com.br/pt_br/market-data-e-indices/servicos-de-dados/market-data/cotacoes/cotacoes/'\n",
    ") -> Path:\n",
    "    \"\"\"\n",
    "    Realiza o download dos dados de cotação da B3\n",
    "\n",
    "    :param url: endereco do site da B3\n",
    "    :return: caminho para os dados de saída\n",
    "    \"\"\"\n",
    "    driver.get(url)\n",
    "\n",
    "    driver.implicitly_wait(3)\n",
    "    WebDriverWait(driver, 5).until(\n",
    "        EC.frame_to_be_available_and_switch_to_it((By.ID, 'bvmf_iframe')),\n",
    "        EC.frame_to_be_available_and_switch_to_it((By.ID, 'iFrameResizer0'))\n",
    "    )\n",
    "\n",
    "    dias_mes = [datetime.strftime(datetime.today() - timedelta(days=dt), format=\"%d/%m/%Y\") for dt in range(0,30)]\n",
    "    dias_uteis = [dia for dia in dias_mes if datetime.strptime(dia, '%d/%m/%Y').isoweekday() not in [6, 7]]\n",
    "\n",
    "    elements = []\n",
    "    for dia in dias_uteis:\n",
    "        try:\n",
    "            elements.append(driver.find_element(By.LINK_TEXT, f'{dia}'))\n",
    "        except:\n",
    "            pass\n",
    "        \n",
    "    return elements\n",
    "        \n",
    "    # for element in elements:\n",
    "    #     try:\n",
    "    #         driver.execute_script('arguments[0].click();', element)\n",
    "    #     except:\n",
    "    #         pass"
   ]
  },
  {
   "cell_type": "code",
   "execution_count": 67,
   "metadata": {},
   "outputs": [
    {
     "data": {
      "text/plain": [
       "selenium.webdriver.chrome.webdriver.WebDriver"
      ]
     },
     "execution_count": 67,
     "metadata": {},
     "output_type": "execute_result"
    }
   ],
   "source": [
    "type(driver)"
   ]
  },
  {
   "cell_type": "code",
   "execution_count": 10,
   "metadata": {},
   "outputs": [
    {
     "data": {
      "text/plain": [
       "True"
      ]
     },
     "execution_count": 10,
     "metadata": {},
     "output_type": "execute_result"
    }
   ],
   "source": [
    "url = 'https://www.b3.com.br/pt_br/market-data-e-indices/servicos-de-dados/market-data/cotacoes/cotacoes/'\n",
    "driver.get(url)\n",
    "\n",
    "driver.implicitly_wait(3)\n",
    "WebDriverWait(driver, 5).until(\n",
    "    EC.frame_to_be_available_and_switch_to_it((By.ID, 'bvmf_iframe')),\n",
    "    EC.frame_to_be_available_and_switch_to_it((By.ID, 'iFrameResizer0'))\n",
    ")"
   ]
  },
  {
   "cell_type": "code",
   "execution_count": 46,
   "metadata": {},
   "outputs": [
    {
     "data": {
      "text/plain": [
       "{'2024_08_15_cotacao_b3': <selenium.webdriver.remote.webelement.WebElement (session=\"74e848a2adfebb39cf1a094ae97a9b6d\", element=\"f.D9A04B75092467CECC9C5AB6A98A1798.d.EB29443AC03DABBD38C359C4200ACB53.e.222\")>,\n",
       " '2024_08_14_cotacao_b3': <selenium.webdriver.remote.webelement.WebElement (session=\"74e848a2adfebb39cf1a094ae97a9b6d\", element=\"f.D9A04B75092467CECC9C5AB6A98A1798.d.EB29443AC03DABBD38C359C4200ACB53.e.223\")>,\n",
       " '2024_08_13_cotacao_b3': <selenium.webdriver.remote.webelement.WebElement (session=\"74e848a2adfebb39cf1a094ae97a9b6d\", element=\"f.D9A04B75092467CECC9C5AB6A98A1798.d.EB29443AC03DABBD38C359C4200ACB53.e.224\")>,\n",
       " '2024_08_12_cotacao_b3': <selenium.webdriver.remote.webelement.WebElement (session=\"74e848a2adfebb39cf1a094ae97a9b6d\", element=\"f.D9A04B75092467CECC9C5AB6A98A1798.d.EB29443AC03DABBD38C359C4200ACB53.e.225\")>,\n",
       " '2024_08_09_cotacao_b3': <selenium.webdriver.remote.webelement.WebElement (session=\"74e848a2adfebb39cf1a094ae97a9b6d\", element=\"f.D9A04B75092467CECC9C5AB6A98A1798.d.EB29443AC03DABBD38C359C4200ACB53.e.226\")>,\n",
       " '2024_08_08_cotacao_b3': <selenium.webdriver.remote.webelement.WebElement (session=\"74e848a2adfebb39cf1a094ae97a9b6d\", element=\"f.D9A04B75092467CECC9C5AB6A98A1798.d.EB29443AC03DABBD38C359C4200ACB53.e.227\")>,\n",
       " '2024_08_07_cotacao_b3': <selenium.webdriver.remote.webelement.WebElement (session=\"74e848a2adfebb39cf1a094ae97a9b6d\", element=\"f.D9A04B75092467CECC9C5AB6A98A1798.d.EB29443AC03DABBD38C359C4200ACB53.e.228\")>,\n",
       " '2024_08_06_cotacao_b3': <selenium.webdriver.remote.webelement.WebElement (session=\"74e848a2adfebb39cf1a094ae97a9b6d\", element=\"f.D9A04B75092467CECC9C5AB6A98A1798.d.EB29443AC03DABBD38C359C4200ACB53.e.229\")>,\n",
       " '2024_08_05_cotacao_b3': <selenium.webdriver.remote.webelement.WebElement (session=\"74e848a2adfebb39cf1a094ae97a9b6d\", element=\"f.D9A04B75092467CECC9C5AB6A98A1798.d.EB29443AC03DABBD38C359C4200ACB53.e.230\")>,\n",
       " '2024_08_02_cotacao_b3': <selenium.webdriver.remote.webelement.WebElement (session=\"74e848a2adfebb39cf1a094ae97a9b6d\", element=\"f.D9A04B75092467CECC9C5AB6A98A1798.d.EB29443AC03DABBD38C359C4200ACB53.e.231\")>,\n",
       " '2024_08_01_cotacao_b3': <selenium.webdriver.remote.webelement.WebElement (session=\"74e848a2adfebb39cf1a094ae97a9b6d\", element=\"f.D9A04B75092467CECC9C5AB6A98A1798.d.EB29443AC03DABBD38C359C4200ACB53.e.261\")>,\n",
       " '2024_07_31_cotacao_b3': <selenium.webdriver.remote.webelement.WebElement (session=\"74e848a2adfebb39cf1a094ae97a9b6d\", element=\"f.D9A04B75092467CECC9C5AB6A98A1798.d.EB29443AC03DABBD38C359C4200ACB53.e.262\")>,\n",
       " '2024_07_30_cotacao_b3': <selenium.webdriver.remote.webelement.WebElement (session=\"74e848a2adfebb39cf1a094ae97a9b6d\", element=\"f.D9A04B75092467CECC9C5AB6A98A1798.d.EB29443AC03DABBD38C359C4200ACB53.e.263\")>,\n",
       " '2024_07_29_cotacao_b3': <selenium.webdriver.remote.webelement.WebElement (session=\"74e848a2adfebb39cf1a094ae97a9b6d\", element=\"f.D9A04B75092467CECC9C5AB6A98A1798.d.EB29443AC03DABBD38C359C4200ACB53.e.264\")>,\n",
       " '2024_07_26_cotacao_b3': <selenium.webdriver.remote.webelement.WebElement (session=\"74e848a2adfebb39cf1a094ae97a9b6d\", element=\"f.D9A04B75092467CECC9C5AB6A98A1798.d.EB29443AC03DABBD38C359C4200ACB53.e.265\")>,\n",
       " '2024_07_25_cotacao_b3': <selenium.webdriver.remote.webelement.WebElement (session=\"74e848a2adfebb39cf1a094ae97a9b6d\", element=\"f.D9A04B75092467CECC9C5AB6A98A1798.d.EB29443AC03DABBD38C359C4200ACB53.e.266\")>,\n",
       " '2024_07_24_cotacao_b3': <selenium.webdriver.remote.webelement.WebElement (session=\"74e848a2adfebb39cf1a094ae97a9b6d\", element=\"f.D9A04B75092467CECC9C5AB6A98A1798.d.EB29443AC03DABBD38C359C4200ACB53.e.267\")>,\n",
       " '2024_07_23_cotacao_b3': <selenium.webdriver.remote.webelement.WebElement (session=\"74e848a2adfebb39cf1a094ae97a9b6d\", element=\"f.D9A04B75092467CECC9C5AB6A98A1798.d.EB29443AC03DABBD38C359C4200ACB53.e.268\")>,\n",
       " '2024_07_22_cotacao_b3': <selenium.webdriver.remote.webelement.WebElement (session=\"74e848a2adfebb39cf1a094ae97a9b6d\", element=\"f.D9A04B75092467CECC9C5AB6A98A1798.d.EB29443AC03DABBD38C359C4200ACB53.e.269\")>,\n",
       " '2024_07_19_cotacao_b3': <selenium.webdriver.remote.webelement.WebElement (session=\"74e848a2adfebb39cf1a094ae97a9b6d\", element=\"f.D9A04B75092467CECC9C5AB6A98A1798.d.EB29443AC03DABBD38C359C4200ACB53.e.270\")>,\n",
       " '2024_07_18_cotacao_b3': <selenium.webdriver.remote.webelement.WebElement (session=\"74e848a2adfebb39cf1a094ae97a9b6d\", element=\"f.D9A04B75092467CECC9C5AB6A98A1798.d.EB29443AC03DABBD38C359C4200ACB53.e.271\")>}"
      ]
     },
     "execution_count": 46,
     "metadata": {},
     "output_type": "execute_result"
    }
   ],
   "source": [
    "# driver.find_element(By.LINK_TEXT, '14/08/2024')\n",
    "# dias_uteis\n",
    "# <a href=\"https://arquivos.b3.com.br/apinegocios/tickercsv/2024-08-15\">15/08/2024</a>\n",
    "# data_raw = driver.find_element(By.CLASS_NAME, 'list-avatar-row').text\n",
    "# data_convert = datetime.strptime(data_raw, '%d/%m/%Y')\n",
    "# data_convert.strftime('%Y-%m-%d')\n",
    "\n",
    "{datetime.strptime(element.text, '%d/%m/%Y').strftime('%Y_%m_%d') + '_cotacao_b3': element for element in driver.find_elements(By.CLASS_NAME, 'list-avatar-row')}"
   ]
  },
  {
   "cell_type": "code",
   "execution_count": 61,
   "metadata": {},
   "outputs": [
    {
     "data": {
      "text/plain": [
       "<bound method WebElement.get_property of <selenium.webdriver.remote.webelement.WebElement (session=\"74e848a2adfebb39cf1a094ae97a9b6d\", element=\"f.D9A04B75092467CECC9C5AB6A98A1798.d.EB29443AC03DABBD38C359C4200ACB53.e.273\")>>"
      ]
     },
     "execution_count": 61,
     "metadata": {},
     "output_type": "execute_result"
    }
   ],
   "source": [
    "# driver.find_element(By.CLASS_NAME, 'primary-text')\n"
   ]
  },
  {
   "cell_type": "code",
   "execution_count": 11,
   "metadata": {},
   "outputs": [
    {
     "ename": "NoSuchElementException",
     "evalue": "Message: no such element: Unable to locate element: {\"method\":\"link text\",\"selector\":\"17/07/2024\"}\n  (Session info: chrome-headless-shell=126.0.6478.126); For documentation on this error, please visit: https://www.selenium.dev/documentation/webdriver/troubleshooting/errors#no-such-element-exception\nStacktrace:\n#0 0x56426b602c5a <unknown>\n#1 0x56426b2e5e2c <unknown>\n#2 0x56426b332661 <unknown>\n#3 0x56426b332751 <unknown>\n#4 0x56426b376f64 <unknown>\n#5 0x56426b3555ed <unknown>\n#6 0x56426b374303 <unknown>\n#7 0x56426b355363 <unknown>\n#8 0x56426b325247 <unknown>\n#9 0x56426b325b9e <unknown>\n#10 0x56426b5c922b <unknown>\n#11 0x56426b5cd2d1 <unknown>\n#12 0x56426b5b4ade <unknown>\n#13 0x56426b5cde32 <unknown>\n#14 0x56426b59977f <unknown>\n#15 0x56426b5f2618 <unknown>\n#16 0x56426b5f27f0 <unknown>\n#17 0x56426b601d8c <unknown>\n#18 0x7f54f56e255a <unknown>\n",
     "output_type": "error",
     "traceback": [
      "\u001b[0;31m---------------------------------------------------------------------------\u001b[0m",
      "\u001b[0;31mNoSuchElementException\u001b[0m                    Traceback (most recent call last)",
      "Cell \u001b[0;32mIn[11], line 4\u001b[0m\n\u001b[1;32m      1\u001b[0m dias_mes \u001b[38;5;241m=\u001b[39m [datetime\u001b[38;5;241m.\u001b[39mstrftime(datetime\u001b[38;5;241m.\u001b[39mtoday() \u001b[38;5;241m-\u001b[39m timedelta(days\u001b[38;5;241m=\u001b[39mdt), \u001b[38;5;28mformat\u001b[39m\u001b[38;5;241m=\u001b[39m\u001b[38;5;124m\"\u001b[39m\u001b[38;5;132;01m%d\u001b[39;00m\u001b[38;5;124m/\u001b[39m\u001b[38;5;124m%\u001b[39m\u001b[38;5;124mm/\u001b[39m\u001b[38;5;124m%\u001b[39m\u001b[38;5;124mY\u001b[39m\u001b[38;5;124m\"\u001b[39m) \u001b[38;5;28;01mfor\u001b[39;00m dt \u001b[38;5;129;01min\u001b[39;00m \u001b[38;5;28mrange\u001b[39m(\u001b[38;5;241m0\u001b[39m,\u001b[38;5;241m30\u001b[39m)]\n\u001b[1;32m      2\u001b[0m dias_uteis \u001b[38;5;241m=\u001b[39m [dia \u001b[38;5;28;01mfor\u001b[39;00m dia \u001b[38;5;129;01min\u001b[39;00m dias_mes \u001b[38;5;28;01mif\u001b[39;00m datetime\u001b[38;5;241m.\u001b[39mstrptime(dia, \u001b[38;5;124m'\u001b[39m\u001b[38;5;132;01m%d\u001b[39;00m\u001b[38;5;124m/\u001b[39m\u001b[38;5;124m%\u001b[39m\u001b[38;5;124mm/\u001b[39m\u001b[38;5;124m%\u001b[39m\u001b[38;5;124mY\u001b[39m\u001b[38;5;124m'\u001b[39m)\u001b[38;5;241m.\u001b[39misoweekday() \u001b[38;5;129;01mnot\u001b[39;00m \u001b[38;5;129;01min\u001b[39;00m [\u001b[38;5;241m6\u001b[39m, \u001b[38;5;241m7\u001b[39m]]\n\u001b[0;32m----> 4\u001b[0m elements \u001b[38;5;241m=\u001b[39m [\u001b[43mdriver\u001b[49m\u001b[38;5;241;43m.\u001b[39;49m\u001b[43mfind_element\u001b[49m\u001b[43m(\u001b[49m\u001b[43mBy\u001b[49m\u001b[38;5;241;43m.\u001b[39;49m\u001b[43mLINK_TEXT\u001b[49m\u001b[43m,\u001b[49m\u001b[43m \u001b[49m\u001b[38;5;124;43mf\u001b[39;49m\u001b[38;5;124;43m'\u001b[39;49m\u001b[38;5;132;43;01m{\u001b[39;49;00m\u001b[43mdia\u001b[49m\u001b[38;5;132;43;01m}\u001b[39;49;00m\u001b[38;5;124;43m'\u001b[39;49m\u001b[43m)\u001b[49m \u001b[38;5;28;01mfor\u001b[39;00m dia \u001b[38;5;129;01min\u001b[39;00m dias_uteis]\n\u001b[1;32m      5\u001b[0m elements\n",
      "File \u001b[0;32m~/.cache/pypoetry/virtualenvs/capital-market-brazil-QdGxKOd--py3.12/lib/python3.12/site-packages/selenium/webdriver/remote/webdriver.py:748\u001b[0m, in \u001b[0;36mWebDriver.find_element\u001b[0;34m(self, by, value)\u001b[0m\n\u001b[1;32m    745\u001b[0m     by \u001b[38;5;241m=\u001b[39m By\u001b[38;5;241m.\u001b[39mCSS_SELECTOR\n\u001b[1;32m    746\u001b[0m     value \u001b[38;5;241m=\u001b[39m \u001b[38;5;124mf\u001b[39m\u001b[38;5;124m'\u001b[39m\u001b[38;5;124m[name=\u001b[39m\u001b[38;5;124m\"\u001b[39m\u001b[38;5;132;01m{\u001b[39;00mvalue\u001b[38;5;132;01m}\u001b[39;00m\u001b[38;5;124m\"\u001b[39m\u001b[38;5;124m]\u001b[39m\u001b[38;5;124m'\u001b[39m\n\u001b[0;32m--> 748\u001b[0m \u001b[38;5;28;01mreturn\u001b[39;00m \u001b[38;5;28;43mself\u001b[39;49m\u001b[38;5;241;43m.\u001b[39;49m\u001b[43mexecute\u001b[49m\u001b[43m(\u001b[49m\u001b[43mCommand\u001b[49m\u001b[38;5;241;43m.\u001b[39;49m\u001b[43mFIND_ELEMENT\u001b[49m\u001b[43m,\u001b[49m\u001b[43m \u001b[49m\u001b[43m{\u001b[49m\u001b[38;5;124;43m\"\u001b[39;49m\u001b[38;5;124;43musing\u001b[39;49m\u001b[38;5;124;43m\"\u001b[39;49m\u001b[43m:\u001b[49m\u001b[43m \u001b[49m\u001b[43mby\u001b[49m\u001b[43m,\u001b[49m\u001b[43m \u001b[49m\u001b[38;5;124;43m\"\u001b[39;49m\u001b[38;5;124;43mvalue\u001b[39;49m\u001b[38;5;124;43m\"\u001b[39;49m\u001b[43m:\u001b[49m\u001b[43m \u001b[49m\u001b[43mvalue\u001b[49m\u001b[43m}\u001b[49m\u001b[43m)\u001b[49m[\u001b[38;5;124m\"\u001b[39m\u001b[38;5;124mvalue\u001b[39m\u001b[38;5;124m\"\u001b[39m]\n",
      "File \u001b[0;32m~/.cache/pypoetry/virtualenvs/capital-market-brazil-QdGxKOd--py3.12/lib/python3.12/site-packages/selenium/webdriver/remote/webdriver.py:354\u001b[0m, in \u001b[0;36mWebDriver.execute\u001b[0;34m(self, driver_command, params)\u001b[0m\n\u001b[1;32m    352\u001b[0m response \u001b[38;5;241m=\u001b[39m \u001b[38;5;28mself\u001b[39m\u001b[38;5;241m.\u001b[39mcommand_executor\u001b[38;5;241m.\u001b[39mexecute(driver_command, params)\n\u001b[1;32m    353\u001b[0m \u001b[38;5;28;01mif\u001b[39;00m response:\n\u001b[0;32m--> 354\u001b[0m     \u001b[38;5;28;43mself\u001b[39;49m\u001b[38;5;241;43m.\u001b[39;49m\u001b[43merror_handler\u001b[49m\u001b[38;5;241;43m.\u001b[39;49m\u001b[43mcheck_response\u001b[49m\u001b[43m(\u001b[49m\u001b[43mresponse\u001b[49m\u001b[43m)\u001b[49m\n\u001b[1;32m    355\u001b[0m     response[\u001b[38;5;124m\"\u001b[39m\u001b[38;5;124mvalue\u001b[39m\u001b[38;5;124m\"\u001b[39m] \u001b[38;5;241m=\u001b[39m \u001b[38;5;28mself\u001b[39m\u001b[38;5;241m.\u001b[39m_unwrap_value(response\u001b[38;5;241m.\u001b[39mget(\u001b[38;5;124m\"\u001b[39m\u001b[38;5;124mvalue\u001b[39m\u001b[38;5;124m\"\u001b[39m, \u001b[38;5;28;01mNone\u001b[39;00m))\n\u001b[1;32m    356\u001b[0m     \u001b[38;5;28;01mreturn\u001b[39;00m response\n",
      "File \u001b[0;32m~/.cache/pypoetry/virtualenvs/capital-market-brazil-QdGxKOd--py3.12/lib/python3.12/site-packages/selenium/webdriver/remote/errorhandler.py:229\u001b[0m, in \u001b[0;36mErrorHandler.check_response\u001b[0;34m(self, response)\u001b[0m\n\u001b[1;32m    227\u001b[0m         alert_text \u001b[38;5;241m=\u001b[39m value[\u001b[38;5;124m\"\u001b[39m\u001b[38;5;124malert\u001b[39m\u001b[38;5;124m\"\u001b[39m]\u001b[38;5;241m.\u001b[39mget(\u001b[38;5;124m\"\u001b[39m\u001b[38;5;124mtext\u001b[39m\u001b[38;5;124m\"\u001b[39m)\n\u001b[1;32m    228\u001b[0m     \u001b[38;5;28;01mraise\u001b[39;00m exception_class(message, screen, stacktrace, alert_text)  \u001b[38;5;66;03m# type: ignore[call-arg]  # mypy is not smart enough here\u001b[39;00m\n\u001b[0;32m--> 229\u001b[0m \u001b[38;5;28;01mraise\u001b[39;00m exception_class(message, screen, stacktrace)\n",
      "\u001b[0;31mNoSuchElementException\u001b[0m: Message: no such element: Unable to locate element: {\"method\":\"link text\",\"selector\":\"17/07/2024\"}\n  (Session info: chrome-headless-shell=126.0.6478.126); For documentation on this error, please visit: https://www.selenium.dev/documentation/webdriver/troubleshooting/errors#no-such-element-exception\nStacktrace:\n#0 0x56426b602c5a <unknown>\n#1 0x56426b2e5e2c <unknown>\n#2 0x56426b332661 <unknown>\n#3 0x56426b332751 <unknown>\n#4 0x56426b376f64 <unknown>\n#5 0x56426b3555ed <unknown>\n#6 0x56426b374303 <unknown>\n#7 0x56426b355363 <unknown>\n#8 0x56426b325247 <unknown>\n#9 0x56426b325b9e <unknown>\n#10 0x56426b5c922b <unknown>\n#11 0x56426b5cd2d1 <unknown>\n#12 0x56426b5b4ade <unknown>\n#13 0x56426b5cde32 <unknown>\n#14 0x56426b59977f <unknown>\n#15 0x56426b5f2618 <unknown>\n#16 0x56426b5f27f0 <unknown>\n#17 0x56426b601d8c <unknown>\n#18 0x7f54f56e255a <unknown>\n"
     ]
    }
   ],
   "source": [
    "dias_mes = [datetime.strftime(datetime.today() - timedelta(days=dt), format=\"%d/%m/%Y\") for dt in range(0,30)]\n",
    "dias_uteis = [dia for dia in dias_mes if datetime.strptime(dia, '%d/%m/%Y').isoweekday() not in [6, 7]]\n",
    "\n",
    "elements = [driver.find_element(By.LINK_TEXT, f'{dia}') for dia in dias_uteis]\n",
    "elements"
   ]
  },
  {
   "cell_type": "code",
   "execution_count": 1,
   "metadata": {},
   "outputs": [],
   "source": [
    "import os\n",
    "\n",
    "os.chdir('..')"
   ]
  },
  {
   "cell_type": "code",
   "execution_count": 2,
   "metadata": {},
   "outputs": [],
   "source": [
    "%load_ext autoreload\n",
    "%autoreload 2\n",
    "import capital_market_brazil.aquisicao.b3.base_cotacao_b3 as etl_base_cotacao_b3"
   ]
  },
  {
   "cell_type": "code",
   "execution_count": 3,
   "metadata": {},
   "outputs": [],
   "source": [
    "cotacao_b3_etl = etl_base_cotacao_b3.BaseCotacaoB3ETL(\n",
    "    entrada='dados/cotacao_b3', \n",
    "    saida='saida/aquisicao', \n",
    "    url='https://www.b3.com.br/pt_br/market-data-e-indices/servicos-de-dados/market-data/cotacoes/cotacoes/'\n",
    ")"
   ]
  },
  {
   "cell_type": "code",
   "execution_count": 5,
   "metadata": {},
   "outputs": [],
   "source": [
    "cotacao_b3_etl.download_content()"
   ]
  },
  {
   "cell_type": "code",
   "execution_count": 26,
   "metadata": {},
   "outputs": [],
   "source": [
    "ex"
   ]
  }
 ],
 "metadata": {
  "kernelspec": {
   "display_name": "capital-market-brazil-QdGxKOd--py3.12",
   "language": "python",
   "name": "python3"
  },
  "language_info": {
   "codemirror_mode": {
    "name": "ipython",
    "version": 3
   },
   "file_extension": ".py",
   "mimetype": "text/x-python",
   "name": "python",
   "nbconvert_exporter": "python",
   "pygments_lexer": "ipython3",
   "version": "3.12.3"
  }
 },
 "nbformat": 4,
 "nbformat_minor": 2
}
